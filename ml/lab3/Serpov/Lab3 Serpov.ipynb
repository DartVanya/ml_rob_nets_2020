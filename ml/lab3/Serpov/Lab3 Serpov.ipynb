{
 "cells": [
  {
   "cell_type": "markdown",
   "metadata": {},
   "source": [
    "# Серпов И.В. 18-ИВТ-3\n",
    "## Лабораторная работа № 2. Методы классификации данных\n",
    "### Вариант 14\n",
    "#### Набор данных: 2, Autos\n",
    "#### Используемые лассификаторы:\n",
    "- 2 – линейная регрессия, LASSO регуляризатор\n",
    "- 3 – линейная регрессия, RIDGE регуляризатор\n"
   ]
  },
  {
   "cell_type": "markdown",
   "metadata": {},
   "source": [
    "#### 1.\tИзучить набор данных. Создать описание набора данных на русском языке. Описать признаки, используемые в наборе данных (включить полученные описания в отчёт)."
   ]
  },
  {
   "cell_type": "markdown",
   "metadata": {},
   "source": [
    "- dateCrawled - дата первого обхода\n",
    "- name - название машины\n",
    "- seller - тип продавца\n",
    "- offerType: - тип предлоежния\n",
    "- price - цена автомобиля\n",
    "- abtest\n",
    "- vehicleType - тип транспортного средства\n",
    "- yearOfRegistration - год регистрации\n",
    "- gearbox - тип коробки передач\n",
    "- powerPS -  мощность машины в лошадинных силах\n",
    "- fuelType - тип топлива\n",
    "- model - модель\n",
    "- kilometer - пробег автомобиля\n",
    "- monthOfRegistration - месяц регистрации\n",
    "- brand - бренд\n",
    "- notRepairedDamage - наличие повреждений\n",
    "- dateCreated - дата создяния объявления\n",
    "- nrOfPictures -  количество фотографий в объявлении\n",
    "- postalCode - почтовый индекс\n",
    "- lastSeen - дата последней проверки объявления\n",
    "\n",
    "Поля lastSeen и dateCreated могут быть использованы для оценки того, как долго объявление автомобиля будет находиться в сети, по крайней мере, пока он не будет продан."
   ]
  },
  {
   "cell_type": "code",
   "execution_count": 92,
   "metadata": {},
   "outputs": [],
   "source": [
    "%matplotlib inline\n",
    "import pandas as pd\n",
    "import numpy as np\n",
    "import seaborn as sns\n",
    "import matplotlib.pyplot as plt\n",
    "import warnings\n",
    "from sklearn.linear_model import Lasso, Ridge\n",
    "from sklearn.model_selection import train_test_split, GridSearchCV\n",
    "from scipy.stats import pearsonr, spearmanr\n",
    "import sklearn as skl\n",
    "from sklearn import preprocessing\n",
    "from sklearn.preprocessing import LabelEncoder\n",
    "from sklearn.preprocessing import MinMaxScaler\n",
    "from sklearn.preprocessing import StandardScaler\n",
    "warnings.simplefilter('ignore')"
   ]
  },
  {
   "cell_type": "code",
   "execution_count": 93,
   "metadata": {},
   "outputs": [
    {
     "data": {
      "text/html": [
       "<div>\n",
       "<style scoped>\n",
       "    .dataframe tbody tr th:only-of-type {\n",
       "        vertical-align: middle;\n",
       "    }\n",
       "\n",
       "    .dataframe tbody tr th {\n",
       "        vertical-align: top;\n",
       "    }\n",
       "\n",
       "    .dataframe thead th {\n",
       "        text-align: right;\n",
       "    }\n",
       "</style>\n",
       "<table border=\"1\" class=\"dataframe\">\n",
       "  <thead>\n",
       "    <tr style=\"text-align: right;\">\n",
       "      <th></th>\n",
       "      <th>dateCrawled</th>\n",
       "      <th>name</th>\n",
       "      <th>seller</th>\n",
       "      <th>offerType</th>\n",
       "      <th>price</th>\n",
       "      <th>abtest</th>\n",
       "      <th>vehicleType</th>\n",
       "      <th>yearOfRegistration</th>\n",
       "      <th>gearbox</th>\n",
       "      <th>powerPS</th>\n",
       "      <th>model</th>\n",
       "      <th>kilometer</th>\n",
       "      <th>monthOfRegistration</th>\n",
       "      <th>fuelType</th>\n",
       "      <th>brand</th>\n",
       "      <th>notRepairedDamage</th>\n",
       "      <th>dateCreated</th>\n",
       "      <th>nrOfPictures</th>\n",
       "      <th>postalCode</th>\n",
       "      <th>lastSeen</th>\n",
       "    </tr>\n",
       "  </thead>\n",
       "  <tbody>\n",
       "    <tr>\n",
       "      <th>0</th>\n",
       "      <td>2016-03-24 11:52:17</td>\n",
       "      <td>Golf_3_1.6</td>\n",
       "      <td>privat</td>\n",
       "      <td>Angebot</td>\n",
       "      <td>480</td>\n",
       "      <td>test</td>\n",
       "      <td>NaN</td>\n",
       "      <td>1993</td>\n",
       "      <td>manuell</td>\n",
       "      <td>0</td>\n",
       "      <td>golf</td>\n",
       "      <td>150000</td>\n",
       "      <td>0</td>\n",
       "      <td>benzin</td>\n",
       "      <td>volkswagen</td>\n",
       "      <td>NaN</td>\n",
       "      <td>2016-03-24 00:00:00</td>\n",
       "      <td>0</td>\n",
       "      <td>70435</td>\n",
       "      <td>2016-04-07 03:16:57</td>\n",
       "    </tr>\n",
       "    <tr>\n",
       "      <th>1</th>\n",
       "      <td>2016-03-24 10:58:45</td>\n",
       "      <td>A5_Sportback_2.7_Tdi</td>\n",
       "      <td>privat</td>\n",
       "      <td>Angebot</td>\n",
       "      <td>18300</td>\n",
       "      <td>test</td>\n",
       "      <td>coupe</td>\n",
       "      <td>2011</td>\n",
       "      <td>manuell</td>\n",
       "      <td>190</td>\n",
       "      <td>NaN</td>\n",
       "      <td>125000</td>\n",
       "      <td>5</td>\n",
       "      <td>diesel</td>\n",
       "      <td>audi</td>\n",
       "      <td>ja</td>\n",
       "      <td>2016-03-24 00:00:00</td>\n",
       "      <td>0</td>\n",
       "      <td>66954</td>\n",
       "      <td>2016-04-07 01:46:50</td>\n",
       "    </tr>\n",
       "    <tr>\n",
       "      <th>2</th>\n",
       "      <td>2016-03-14 12:52:21</td>\n",
       "      <td>Jeep_Grand_Cherokee_\"Overland\"</td>\n",
       "      <td>privat</td>\n",
       "      <td>Angebot</td>\n",
       "      <td>9800</td>\n",
       "      <td>test</td>\n",
       "      <td>suv</td>\n",
       "      <td>2004</td>\n",
       "      <td>automatik</td>\n",
       "      <td>163</td>\n",
       "      <td>grand</td>\n",
       "      <td>125000</td>\n",
       "      <td>8</td>\n",
       "      <td>diesel</td>\n",
       "      <td>jeep</td>\n",
       "      <td>NaN</td>\n",
       "      <td>2016-03-14 00:00:00</td>\n",
       "      <td>0</td>\n",
       "      <td>90480</td>\n",
       "      <td>2016-04-05 12:47:46</td>\n",
       "    </tr>\n",
       "    <tr>\n",
       "      <th>3</th>\n",
       "      <td>2016-03-17 16:54:04</td>\n",
       "      <td>GOLF_4_1_4__3TÜRER</td>\n",
       "      <td>privat</td>\n",
       "      <td>Angebot</td>\n",
       "      <td>1500</td>\n",
       "      <td>test</td>\n",
       "      <td>kleinwagen</td>\n",
       "      <td>2001</td>\n",
       "      <td>manuell</td>\n",
       "      <td>75</td>\n",
       "      <td>golf</td>\n",
       "      <td>150000</td>\n",
       "      <td>6</td>\n",
       "      <td>benzin</td>\n",
       "      <td>volkswagen</td>\n",
       "      <td>nein</td>\n",
       "      <td>2016-03-17 00:00:00</td>\n",
       "      <td>0</td>\n",
       "      <td>91074</td>\n",
       "      <td>2016-03-17 17:40:17</td>\n",
       "    </tr>\n",
       "    <tr>\n",
       "      <th>4</th>\n",
       "      <td>2016-03-31 17:25:20</td>\n",
       "      <td>Skoda_Fabia_1.4_TDI_PD_Classic</td>\n",
       "      <td>privat</td>\n",
       "      <td>Angebot</td>\n",
       "      <td>3600</td>\n",
       "      <td>test</td>\n",
       "      <td>kleinwagen</td>\n",
       "      <td>2008</td>\n",
       "      <td>manuell</td>\n",
       "      <td>69</td>\n",
       "      <td>fabia</td>\n",
       "      <td>90000</td>\n",
       "      <td>7</td>\n",
       "      <td>diesel</td>\n",
       "      <td>skoda</td>\n",
       "      <td>nein</td>\n",
       "      <td>2016-03-31 00:00:00</td>\n",
       "      <td>0</td>\n",
       "      <td>60437</td>\n",
       "      <td>2016-04-06 10:17:21</td>\n",
       "    </tr>\n",
       "  </tbody>\n",
       "</table>\n",
       "</div>"
      ],
      "text/plain": [
       "           dateCrawled                            name  seller offerType  \\\n",
       "0  2016-03-24 11:52:17                      Golf_3_1.6  privat   Angebot   \n",
       "1  2016-03-24 10:58:45            A5_Sportback_2.7_Tdi  privat   Angebot   \n",
       "2  2016-03-14 12:52:21  Jeep_Grand_Cherokee_\"Overland\"  privat   Angebot   \n",
       "3  2016-03-17 16:54:04              GOLF_4_1_4__3TÜRER  privat   Angebot   \n",
       "4  2016-03-31 17:25:20  Skoda_Fabia_1.4_TDI_PD_Classic  privat   Angebot   \n",
       "\n",
       "   price abtest vehicleType  yearOfRegistration    gearbox  powerPS  model  \\\n",
       "0    480   test         NaN                1993    manuell        0   golf   \n",
       "1  18300   test       coupe                2011    manuell      190    NaN   \n",
       "2   9800   test         suv                2004  automatik      163  grand   \n",
       "3   1500   test  kleinwagen                2001    manuell       75   golf   \n",
       "4   3600   test  kleinwagen                2008    manuell       69  fabia   \n",
       "\n",
       "   kilometer  monthOfRegistration fuelType       brand notRepairedDamage  \\\n",
       "0     150000                    0   benzin  volkswagen               NaN   \n",
       "1     125000                    5   diesel        audi                ja   \n",
       "2     125000                    8   diesel        jeep               NaN   \n",
       "3     150000                    6   benzin  volkswagen              nein   \n",
       "4      90000                    7   diesel       skoda              nein   \n",
       "\n",
       "           dateCreated  nrOfPictures  postalCode             lastSeen  \n",
       "0  2016-03-24 00:00:00             0       70435  2016-04-07 03:16:57  \n",
       "1  2016-03-24 00:00:00             0       66954  2016-04-07 01:46:50  \n",
       "2  2016-03-14 00:00:00             0       90480  2016-04-05 12:47:46  \n",
       "3  2016-03-17 00:00:00             0       91074  2016-03-17 17:40:17  \n",
       "4  2016-03-31 00:00:00             0       60437  2016-04-06 10:17:21  "
      ]
     },
     "execution_count": 93,
     "metadata": {},
     "output_type": "execute_result"
    }
   ],
   "source": [
    "data_base = pd.read_csv(\"autos.csv\", encoding=\"ISO-8859-1\")\n",
    "data_base.head()"
   ]
  },
  {
   "cell_type": "markdown",
   "metadata": {},
   "source": [
    "#### 2.\tУдалите дубликаты строк в наборе данных; приведите размер набора данных до и после данной операции."
   ]
  },
  {
   "cell_type": "code",
   "execution_count": 76,
   "metadata": {},
   "outputs": [
    {
     "name": "stdout",
     "output_type": "stream",
     "text": [
      "Количество строк и столбцов до обработки:\n",
      " (371528, 20)\n"
     ]
    }
   ],
   "source": [
    "print(\"Количество строк и столбцов до обработки:\\n\", data_base.shape)"
   ]
  },
  {
   "cell_type": "code",
   "execution_count": 77,
   "metadata": {},
   "outputs": [
    {
     "name": "stdout",
     "output_type": "stream",
     "text": [
      "Количество строк и столбцов после обработки:\n",
      " (260952, 14)\n"
     ]
    }
   ],
   "source": [
    "data_base.dropna(inplace=True)\n",
    "data_base.drop_duplicates(inplace=True)\n",
    "data_base.drop(['dateCrawled', 'name', 'dateCreated', 'postalCode', 'lastSeen', 'model'], axis = 1, inplace=True)\n",
    "print(\"Количество строк и столбцов после обработки:\\n\", data_base.shape)"
   ]
  },
  {
   "cell_type": "code",
   "execution_count": 78,
   "metadata": {},
   "outputs": [
    {
     "data": {
      "text/plain": [
       "(260952, 14)"
      ]
     },
     "execution_count": 78,
     "metadata": {},
     "output_type": "execute_result"
    }
   ],
   "source": [
    "data_base.shape"
   ]
  },
  {
   "cell_type": "markdown",
   "metadata": {},
   "source": [
    "#### 3.\tВыполните масштабирование количественных признаков; Постройте диаграммы BoxPlot для признаков до и после масштабирования. Выберите способ масштабирования (например, нормализацию или стандартизацию)."
   ]
  },
  {
   "cell_type": "code",
   "execution_count": 79,
   "metadata": {},
   "outputs": [
    {
     "name": "stdout",
     "output_type": "stream",
     "text": [
      "Numerical: ['price', 'yearOfRegistration', 'powerPS', 'kilometer', 'monthOfRegistration', 'nrOfPictures']\n"
     ]
    }
   ],
   "source": [
    "numerical_columns = [i for i in data_base.columns if data_base[i].dtype.name != 'object']\n",
    "print(\"Numerical: \" + str(numerical_columns))"
   ]
  },
  {
   "cell_type": "markdown",
   "metadata": {},
   "source": [
    "_График до машстабирования:_"
   ]
  },
  {
   "cell_type": "code",
   "execution_count": 80,
   "metadata": {},
   "outputs": [
    {
     "data": {
      "image/png": "[encoded data removed]",
      "text/plain": [
       "<Figure size 432x288 with 1 Axes>"
      ]
     },
     "metadata": {
      "needs_background": "light"
     },
     "output_type": "display_data"
    }
   ],
   "source": [
    "sns.boxplot(data=data_base[numerical_columns], orient=\"h\")\n",
    "plt.show()"
   ]
  },
  {
   "cell_type": "markdown",
   "metadata": {},
   "source": [
    "**Масштабирование будем выполнять с помощью нормализации.**\n",
    "\n",
    "_График после масштабирования:_"
   ]
  },
  {
   "cell_type": "code",
   "execution_count": 81,
   "metadata": {},
   "outputs": [
    {
     "data": {
      "image/png": "[encoded data removed]",
      "text/plain": [
       "<Figure size 432x288 with 1 Axes>"
      ]
     },
     "metadata": {
      "needs_background": "light"
     },
     "output_type": "display_data"
    }
   ],
   "source": [
    "scal = preprocessing.MinMaxScaler()\n",
    "data_base[numerical_columns] = scal.fit_transform(data_base[numerical_columns])\n",
    "sns.boxplot(data=data_base[numerical_columns], orient=\"h\")\n",
    "plt.show()"
   ]
  },
  {
   "cell_type": "markdown",
   "metadata": {},
   "source": [
    "#### 4.\tВыполните замену категориальных признаков; выберите и обоснуйте способ замены."
   ]
  },
  {
   "cell_type": "markdown",
   "metadata": {},
   "source": [
    "Категориальные бинарные признаки заменим на 0 и 1.\n",
    "\n",
    "К небинарным признакам применим dummy-кодирование."
   ]
  },
  {
   "cell_type": "code",
   "execution_count": 82,
   "metadata": {},
   "outputs": [
    {
     "name": "stdout",
     "output_type": "stream",
     "text": [
      "Категориальные признаки: ['seller', 'offerType', 'abtest', 'vehicleType', 'gearbox', 'fuelType', 'brand', 'notRepairedDamage']\n"
     ]
    }
   ],
   "source": [
    "categorical_columns = [i for i in data_base.columns if data_base[i].dtype.name == 'object']\n",
    "print(\"Категориальные признаки: \" + str(categorical_columns))"
   ]
  },
  {
   "cell_type": "code",
   "execution_count": 83,
   "metadata": {},
   "outputs": [
    {
     "data": {
      "text/html": [
       "<div>\n",
       "<style scoped>\n",
       "    .dataframe tbody tr th:only-of-type {\n",
       "        vertical-align: middle;\n",
       "    }\n",
       "\n",
       "    .dataframe tbody tr th {\n",
       "        vertical-align: top;\n",
       "    }\n",
       "\n",
       "    .dataframe thead th {\n",
       "        text-align: right;\n",
       "    }\n",
       "</style>\n",
       "<table border=\"1\" class=\"dataframe\">\n",
       "  <thead>\n",
       "    <tr style=\"text-align: right;\">\n",
       "      <th></th>\n",
       "      <th>vehicleType_andere</th>\n",
       "      <th>vehicleType_bus</th>\n",
       "      <th>vehicleType_cabrio</th>\n",
       "      <th>vehicleType_coupe</th>\n",
       "      <th>vehicleType_kleinwagen</th>\n",
       "      <th>vehicleType_kombi</th>\n",
       "      <th>vehicleType_limousine</th>\n",
       "      <th>vehicleType_suv</th>\n",
       "      <th>fuelType_andere</th>\n",
       "      <th>fuelType_benzin</th>\n",
       "      <th>...</th>\n",
       "      <th>offerType</th>\n",
       "      <th>price</th>\n",
       "      <th>abtest</th>\n",
       "      <th>yearOfRegistration</th>\n",
       "      <th>gearbox</th>\n",
       "      <th>powerPS</th>\n",
       "      <th>kilometer</th>\n",
       "      <th>monthOfRegistration</th>\n",
       "      <th>notRepairedDamage</th>\n",
       "      <th>nrOfPictures</th>\n",
       "    </tr>\n",
       "  </thead>\n",
       "  <tbody>\n",
       "    <tr>\n",
       "      <th>3</th>\n",
       "      <td>0</td>\n",
       "      <td>0</td>\n",
       "      <td>0</td>\n",
       "      <td>0</td>\n",
       "      <td>1</td>\n",
       "      <td>0</td>\n",
       "      <td>0</td>\n",
       "      <td>0</td>\n",
       "      <td>0</td>\n",
       "      <td>1</td>\n",
       "      <td>...</td>\n",
       "      <td>0</td>\n",
       "      <td>0.000015</td>\n",
       "      <td>0</td>\n",
       "      <td>0.842593</td>\n",
       "      <td>0</td>\n",
       "      <td>0.00375</td>\n",
       "      <td>1.000000</td>\n",
       "      <td>0.500000</td>\n",
       "      <td>0</td>\n",
       "      <td>0.0</td>\n",
       "    </tr>\n",
       "    <tr>\n",
       "      <th>4</th>\n",
       "      <td>0</td>\n",
       "      <td>0</td>\n",
       "      <td>0</td>\n",
       "      <td>0</td>\n",
       "      <td>1</td>\n",
       "      <td>0</td>\n",
       "      <td>0</td>\n",
       "      <td>0</td>\n",
       "      <td>0</td>\n",
       "      <td>0</td>\n",
       "      <td>...</td>\n",
       "      <td>0</td>\n",
       "      <td>0.000036</td>\n",
       "      <td>0</td>\n",
       "      <td>0.907407</td>\n",
       "      <td>0</td>\n",
       "      <td>0.00345</td>\n",
       "      <td>0.586207</td>\n",
       "      <td>0.583333</td>\n",
       "      <td>0</td>\n",
       "      <td>0.0</td>\n",
       "    </tr>\n",
       "    <tr>\n",
       "      <th>5</th>\n",
       "      <td>0</td>\n",
       "      <td>0</td>\n",
       "      <td>0</td>\n",
       "      <td>0</td>\n",
       "      <td>0</td>\n",
       "      <td>0</td>\n",
       "      <td>1</td>\n",
       "      <td>0</td>\n",
       "      <td>0</td>\n",
       "      <td>1</td>\n",
       "      <td>...</td>\n",
       "      <td>0</td>\n",
       "      <td>0.000007</td>\n",
       "      <td>0</td>\n",
       "      <td>0.787037</td>\n",
       "      <td>0</td>\n",
       "      <td>0.00510</td>\n",
       "      <td>1.000000</td>\n",
       "      <td>0.833333</td>\n",
       "      <td>1</td>\n",
       "      <td>0.0</td>\n",
       "    </tr>\n",
       "    <tr>\n",
       "      <th>6</th>\n",
       "      <td>0</td>\n",
       "      <td>0</td>\n",
       "      <td>1</td>\n",
       "      <td>0</td>\n",
       "      <td>0</td>\n",
       "      <td>0</td>\n",
       "      <td>0</td>\n",
       "      <td>0</td>\n",
       "      <td>0</td>\n",
       "      <td>1</td>\n",
       "      <td>...</td>\n",
       "      <td>0</td>\n",
       "      <td>0.000022</td>\n",
       "      <td>0</td>\n",
       "      <td>0.870370</td>\n",
       "      <td>0</td>\n",
       "      <td>0.00545</td>\n",
       "      <td>1.000000</td>\n",
       "      <td>0.666667</td>\n",
       "      <td>0</td>\n",
       "      <td>0.0</td>\n",
       "    </tr>\n",
       "    <tr>\n",
       "      <th>7</th>\n",
       "      <td>0</td>\n",
       "      <td>0</td>\n",
       "      <td>0</td>\n",
       "      <td>0</td>\n",
       "      <td>0</td>\n",
       "      <td>0</td>\n",
       "      <td>1</td>\n",
       "      <td>0</td>\n",
       "      <td>0</td>\n",
       "      <td>1</td>\n",
       "      <td>...</td>\n",
       "      <td>0</td>\n",
       "      <td>0.000000</td>\n",
       "      <td>0</td>\n",
       "      <td>0.648148</td>\n",
       "      <td>0</td>\n",
       "      <td>0.00250</td>\n",
       "      <td>0.241379</td>\n",
       "      <td>0.583333</td>\n",
       "      <td>0</td>\n",
       "      <td>0.0</td>\n",
       "    </tr>\n",
       "    <tr>\n",
       "      <th>...</th>\n",
       "      <td>...</td>\n",
       "      <td>...</td>\n",
       "      <td>...</td>\n",
       "      <td>...</td>\n",
       "      <td>...</td>\n",
       "      <td>...</td>\n",
       "      <td>...</td>\n",
       "      <td>...</td>\n",
       "      <td>...</td>\n",
       "      <td>...</td>\n",
       "      <td>...</td>\n",
       "      <td>...</td>\n",
       "      <td>...</td>\n",
       "      <td>...</td>\n",
       "      <td>...</td>\n",
       "      <td>...</td>\n",
       "      <td>...</td>\n",
       "      <td>...</td>\n",
       "      <td>...</td>\n",
       "      <td>...</td>\n",
       "      <td>...</td>\n",
       "    </tr>\n",
       "    <tr>\n",
       "      <th>371520</th>\n",
       "      <td>0</td>\n",
       "      <td>0</td>\n",
       "      <td>0</td>\n",
       "      <td>0</td>\n",
       "      <td>0</td>\n",
       "      <td>0</td>\n",
       "      <td>1</td>\n",
       "      <td>0</td>\n",
       "      <td>0</td>\n",
       "      <td>1</td>\n",
       "      <td>...</td>\n",
       "      <td>0</td>\n",
       "      <td>0.000032</td>\n",
       "      <td>1</td>\n",
       "      <td>0.870370</td>\n",
       "      <td>0</td>\n",
       "      <td>0.01125</td>\n",
       "      <td>1.000000</td>\n",
       "      <td>0.416667</td>\n",
       "      <td>1</td>\n",
       "      <td>0.0</td>\n",
       "    </tr>\n",
       "    <tr>\n",
       "      <th>371521</th>\n",
       "      <td>0</td>\n",
       "      <td>1</td>\n",
       "      <td>0</td>\n",
       "      <td>0</td>\n",
       "      <td>0</td>\n",
       "      <td>0</td>\n",
       "      <td>0</td>\n",
       "      <td>0</td>\n",
       "      <td>0</td>\n",
       "      <td>1</td>\n",
       "      <td>...</td>\n",
       "      <td>0</td>\n",
       "      <td>0.000012</td>\n",
       "      <td>1</td>\n",
       "      <td>0.833333</td>\n",
       "      <td>0</td>\n",
       "      <td>0.00000</td>\n",
       "      <td>1.000000</td>\n",
       "      <td>0.250000</td>\n",
       "      <td>0</td>\n",
       "      <td>0.0</td>\n",
       "    </tr>\n",
       "    <tr>\n",
       "      <th>371524</th>\n",
       "      <td>0</td>\n",
       "      <td>0</td>\n",
       "      <td>1</td>\n",
       "      <td>0</td>\n",
       "      <td>0</td>\n",
       "      <td>0</td>\n",
       "      <td>0</td>\n",
       "      <td>0</td>\n",
       "      <td>0</td>\n",
       "      <td>1</td>\n",
       "      <td>...</td>\n",
       "      <td>0</td>\n",
       "      <td>0.000012</td>\n",
       "      <td>0</td>\n",
       "      <td>0.833333</td>\n",
       "      <td>1</td>\n",
       "      <td>0.00505</td>\n",
       "      <td>0.827586</td>\n",
       "      <td>0.250000</td>\n",
       "      <td>0</td>\n",
       "      <td>0.0</td>\n",
       "    </tr>\n",
       "    <tr>\n",
       "      <th>371525</th>\n",
       "      <td>0</td>\n",
       "      <td>1</td>\n",
       "      <td>0</td>\n",
       "      <td>0</td>\n",
       "      <td>0</td>\n",
       "      <td>0</td>\n",
       "      <td>0</td>\n",
       "      <td>0</td>\n",
       "      <td>0</td>\n",
       "      <td>0</td>\n",
       "      <td>...</td>\n",
       "      <td>0</td>\n",
       "      <td>0.000092</td>\n",
       "      <td>0</td>\n",
       "      <td>0.796296</td>\n",
       "      <td>0</td>\n",
       "      <td>0.00510</td>\n",
       "      <td>1.000000</td>\n",
       "      <td>0.250000</td>\n",
       "      <td>0</td>\n",
       "      <td>0.0</td>\n",
       "    </tr>\n",
       "    <tr>\n",
       "      <th>371527</th>\n",
       "      <td>0</td>\n",
       "      <td>0</td>\n",
       "      <td>0</td>\n",
       "      <td>0</td>\n",
       "      <td>0</td>\n",
       "      <td>0</td>\n",
       "      <td>1</td>\n",
       "      <td>0</td>\n",
       "      <td>0</td>\n",
       "      <td>1</td>\n",
       "      <td>...</td>\n",
       "      <td>0</td>\n",
       "      <td>0.000290</td>\n",
       "      <td>1</td>\n",
       "      <td>0.953704</td>\n",
       "      <td>0</td>\n",
       "      <td>0.01600</td>\n",
       "      <td>0.310345</td>\n",
       "      <td>0.666667</td>\n",
       "      <td>0</td>\n",
       "      <td>0.0</td>\n",
       "    </tr>\n",
       "  </tbody>\n",
       "</table>\n",
       "<p>260952 rows × 65 columns</p>\n",
       "</div>"
      ],
      "text/plain": [
       "        vehicleType_andere  vehicleType_bus  vehicleType_cabrio  \\\n",
       "3                        0                0                   0   \n",
       "4                        0                0                   0   \n",
       "5                        0                0                   0   \n",
       "6                        0                0                   1   \n",
       "7                        0                0                   0   \n",
       "...                    ...              ...                 ...   \n",
       "371520                   0                0                   0   \n",
       "371521                   0                1                   0   \n",
       "371524                   0                0                   1   \n",
       "371525                   0                1                   0   \n",
       "371527                   0                0                   0   \n",
       "\n",
       "        vehicleType_coupe  vehicleType_kleinwagen  vehicleType_kombi  \\\n",
       "3                       0                       1                  0   \n",
       "4                       0                       1                  0   \n",
       "5                       0                       0                  0   \n",
       "6                       0                       0                  0   \n",
       "7                       0                       0                  0   \n",
       "...                   ...                     ...                ...   \n",
       "371520                  0                       0                  0   \n",
       "371521                  0                       0                  0   \n",
       "371524                  0                       0                  0   \n",
       "371525                  0                       0                  0   \n",
       "371527                  0                       0                  0   \n",
       "\n",
       "        vehicleType_limousine  vehicleType_suv  fuelType_andere  \\\n",
       "3                           0                0                0   \n",
       "4                           0                0                0   \n",
       "5                           1                0                0   \n",
       "6                           0                0                0   \n",
       "7                           1                0                0   \n",
       "...                       ...              ...              ...   \n",
       "371520                      1                0                0   \n",
       "371521                      0                0                0   \n",
       "371524                      0                0                0   \n",
       "371525                      0                0                0   \n",
       "371527                      1                0                0   \n",
       "\n",
       "        fuelType_benzin  ...  offerType     price  abtest  yearOfRegistration  \\\n",
       "3                     1  ...          0  0.000015       0            0.842593   \n",
       "4                     0  ...          0  0.000036       0            0.907407   \n",
       "5                     1  ...          0  0.000007       0            0.787037   \n",
       "6                     1  ...          0  0.000022       0            0.870370   \n",
       "7                     1  ...          0  0.000000       0            0.648148   \n",
       "...                 ...  ...        ...       ...     ...                 ...   \n",
       "371520                1  ...          0  0.000032       1            0.870370   \n",
       "371521                1  ...          0  0.000012       1            0.833333   \n",
       "371524                1  ...          0  0.000012       0            0.833333   \n",
       "371525                0  ...          0  0.000092       0            0.796296   \n",
       "371527                1  ...          0  0.000290       1            0.953704   \n",
       "\n",
       "        gearbox  powerPS  kilometer  monthOfRegistration  notRepairedDamage  \\\n",
       "3             0  0.00375   1.000000             0.500000                  0   \n",
       "4             0  0.00345   0.586207             0.583333                  0   \n",
       "5             0  0.00510   1.000000             0.833333                  1   \n",
       "6             0  0.00545   1.000000             0.666667                  0   \n",
       "7             0  0.00250   0.241379             0.583333                  0   \n",
       "...         ...      ...        ...                  ...                ...   \n",
       "371520        0  0.01125   1.000000             0.416667                  1   \n",
       "371521        0  0.00000   1.000000             0.250000                  0   \n",
       "371524        1  0.00505   0.827586             0.250000                  0   \n",
       "371525        0  0.00510   1.000000             0.250000                  0   \n",
       "371527        0  0.01600   0.310345             0.666667                  0   \n",
       "\n",
       "        nrOfPictures  \n",
       "3                0.0  \n",
       "4                0.0  \n",
       "5                0.0  \n",
       "6                0.0  \n",
       "7                0.0  \n",
       "...              ...  \n",
       "371520           0.0  \n",
       "371521           0.0  \n",
       "371524           0.0  \n",
       "371525           0.0  \n",
       "371527           0.0  \n",
       "\n",
       "[260952 rows x 65 columns]"
      ]
     },
     "execution_count": 83,
     "metadata": {},
     "output_type": "execute_result"
    }
   ],
   "source": [
    "nonbinary = [column for column in categorical_columns if len(data_base[column].unique()) > 2]\n",
    "\n",
    "for column in [column for column in categorical_columns if len(data_base[column].unique()) == 2]:\n",
    "    for i, unic_item in enumerate(data_base[column].unique()):\n",
    "        data_base[column] = data_base[column].replace(to_replace=[unic_item], value=[i])\n",
    "\n",
    "db_nonbinary = pd.get_dummies(data_base[nonbinary])\n",
    "data_base.drop(nonbinary, axis=1, inplace=True)\n",
    "data_base = pd.concat([db_nonbinary, data_base] , axis=1)\n",
    "data_base"
   ]
  },
  {
   "cell_type": "markdown",
   "metadata": {},
   "source": [
    "#### 5.\tОцените корреляцию между признаков и удалите те признаки, которые коррелируют с наибольшим числом других."
   ]
  },
  {
   "cell_type": "code",
   "execution_count": 84,
   "metadata": {},
   "outputs": [
    {
     "data": {
      "text/plain": [
       "<matplotlib.axes._subplots.AxesSubplot at 0x22ab2f0ef88>"
      ]
     },
     "execution_count": 84,
     "metadata": {},
     "output_type": "execute_result"
    },
    {
     "data": {
      "image/png": "[encoded data removed]",
      "text/plain": [
       "<Figure size 432x288 with 2 Axes>"
      ]
     },
     "metadata": {
      "needs_background": "light"
     },
     "output_type": "display_data"
    }
   ],
   "source": [
    "corr_matrix = data_base.corr()\n",
    "sns.heatmap(corr_matrix)"
   ]
  },
  {
   "cell_type": "markdown",
   "metadata": {},
   "source": [
    "#### 6.\tЗаполните пропущенные значения в данных."
   ]
  },
  {
   "cell_type": "code",
   "execution_count": 85,
   "metadata": {},
   "outputs": [
    {
     "data": {
      "text/plain": [
       "vehicleType_andere        0\n",
       "vehicleType_bus           0\n",
       "vehicleType_cabrio        0\n",
       "vehicleType_coupe         0\n",
       "vehicleType_kleinwagen    0\n",
       "                         ..\n",
       "powerPS                   0\n",
       "kilometer                 0\n",
       "monthOfRegistration       0\n",
       "notRepairedDamage         0\n",
       "nrOfPictures              0\n",
       "Length: 65, dtype: int64"
      ]
     },
     "execution_count": 85,
     "metadata": {},
     "output_type": "execute_result"
    }
   ],
   "source": [
    "data_base.isnull().sum()"
   ]
  },
  {
   "cell_type": "code",
   "execution_count": 86,
   "metadata": {},
   "outputs": [
    {
     "name": "stdout",
     "output_type": "stream",
     "text": [
      "Пропущенных значений в данных нет.\n"
     ]
    }
   ],
   "source": [
    "print(\"Пропущенных значений в данных нет.\")"
   ]
  },
  {
   "cell_type": "markdown",
   "metadata": {},
   "source": [
    "#### 7.\tРешите поставленную задачу регрессии в соответствии с заданием. При подборе параметров метода принятия решения (метода регрессии) используйте перекрёстную проверку (изучите возможные для изменения параметры метода регрессии).  Вычислите точность решения задачи, вычислив разницу между реальным значением и предсказанным. Вычислите коэффициент корреляции (Пирсона, Спирмена) между реальным значением и предсказанным с учётом p-value. "
   ]
  },
  {
   "cell_type": "code",
   "execution_count": 87,
   "metadata": {},
   "outputs": [],
   "source": [
    "X, Y = data_base.drop(['price'], axis=1), data_base['price']\n",
    "X_train, X_test, Y_train, Y_test = train_test_split(X, Y, test_size = 0.3, random_state = 123)"
   ]
  },
  {
   "cell_type": "markdown",
   "metadata": {},
   "source": [
    "**Линейная регрессия, LASSO регуляризатор.**"
   ]
  },
  {
   "cell_type": "code",
   "execution_count": 88,
   "metadata": {},
   "outputs": [
    {
     "name": "stdout",
     "output_type": "stream",
     "text": [
      "Лучшее значение alpha: 0.0\n",
      "173420   -0.000008\n",
      "182741   -0.000100\n",
      "271616   -0.000042\n",
      "218173    0.000011\n",
      "361460   -0.000031\n",
      "45771    -0.000034\n",
      "297004    0.000044\n",
      "58119    -0.000008\n",
      "304305    0.000054\n",
      "183986   -0.000010\n",
      "274833    0.000051\n",
      "346765   -0.000058\n",
      "237316   -0.000016\n",
      "107975   -0.000007\n",
      "241922   -0.000035\n",
      "Name: price, dtype: float64\n",
      "Коэффициент корреляции Пирсона:  nan\n",
      "p_value: nan\n",
      "Коэффициент корреляции Спирмена:  0.6746674485837861\n",
      "p_value: 0.0\n"
     ]
    }
   ],
   "source": [
    "lasso = Lasso()\n",
    "params = {'alpha': np.arange(0, 0.1, 0.01)}\n",
    "lasso_grid = GridSearchCV(lasso, params)\n",
    "lasso_grid.fit(X_train, Y_train)\n",
    "best_alpha = lasso_grid.best_estimator_.alpha\n",
    "print('Лучшее значение alpha:', best_alpha)\n",
    "\n",
    "lasso = Lasso(best_alpha)\n",
    "lasso.fit(X_train, Y_train)\n",
    "pred_las = lasso.predict(X_test)\n",
    "print(pred_las[:15] - y_test[:15])\n",
    "\n",
    "P, p_value_P = pearsonr(pred_las, Y_test)\n",
    "print(\"Коэффициент корреляции Пирсона: \", P)\n",
    "print(\"p_value:\", p_value_P)\n",
    "S, p_value_S = spearmanr(pred_las, Y_test)\n",
    "print(\"Коэффициент корреляции Спирмена: \", S)\n",
    "print(\"p_value:\", p_value_S)"
   ]
  },
  {
   "cell_type": "markdown",
   "metadata": {},
   "source": [
    "**Линейная регрессия, RIDGE регуляризатор.**"
   ]
  },
  {
   "cell_type": "code",
   "execution_count": 89,
   "metadata": {},
   "outputs": [
    {
     "name": "stdout",
     "output_type": "stream",
     "text": [
      "Лучшее значение alpha: 2.95\n",
      "173420   -0.000008\n",
      "182741   -0.000100\n",
      "271616   -0.000042\n",
      "218173    0.000011\n",
      "361460   -0.000031\n",
      "45771    -0.000033\n",
      "297004    0.000044\n",
      "58119    -0.000009\n",
      "304305    0.000055\n",
      "183986   -0.000009\n",
      "274833    0.000050\n",
      "346765   -0.000058\n",
      "237316   -0.000016\n",
      "107975   -0.000006\n",
      "241922   -0.000034\n",
      "Name: price, dtype: float64\n",
      "Коэффициент корреляции Пирсона:  0.014858681019399531\n",
      "p_value: 3.2165369899616465e-05\n",
      "Коэффициент корреляции Спирмена:  0.6746674485837861\n",
      "p_value: 0.0\n"
     ]
    }
   ],
   "source": [
    "ridge = Ridge()\n",
    "params = {'alpha': np.arange(0, 3, 0.05)}\n",
    "ridge_grid = GridSearchCV(ridge, params)\n",
    "ridge_grid.fit(X_train, Y_train)\n",
    "best_alpha = ridge_grid.best_estimator_.alpha\n",
    "print('Лучшее значение alpha:', best_alpha)\n",
    "\n",
    "ridge = Ridge(best_alpha)\n",
    "ridge.fit(X_train, Y_train)\n",
    "pred_rid = ridge.predict(X_test)\n",
    "print(pred_rid[:15] - Y_test[:15])\n",
    "\n",
    "P, p_value_P = pearsonr(pred_las, Y_test)\n",
    "print(\"Коэффициент корреляции Пирсона: \", P)\n",
    "print(\"p_value:\", p_value_P)\n",
    "S, p_value_S = spearmanr(pred_las, Y_test)\n",
    "print(\"Коэффициент корреляции Спирмена: \", S)\n",
    "print(\"p_value:\", p_value_S)"
   ]
  },
  {
   "cell_type": "code",
   "execution_count": null,
   "metadata": {},
   "outputs": [],
   "source": []
  }
 ],
 "metadata": {
  "kernelspec": {
   "display_name": "Python 3",
   "language": "python",
   "name": "python3"
  },
  "language_info": {
   "codemirror_mode": {
    "name": "ipython",
    "version": 3
   },
   "file_extension": ".py",
   "mimetype": "text/x-python",
   "name": "python",
   "nbconvert_exporter": "python",
   "pygments_lexer": "ipython3",
   "version": "3.7.5"
  }
 },
 "nbformat": 4,
 "nbformat_minor": 2
}
